{
 "cells": [
  {
   "cell_type": "markdown",
   "metadata": {
    "colab_type": "text",
    "id": "l0ZzOlyxB-kf"
   },
   "source": [
    "<h1>Python: without numpy or sklearn </h1>"
   ]
  },
  {
   "cell_type": "code",
   "execution_count": 15,
   "metadata": {},
   "outputs": [],
   "source": [
    "from IPython.core.interactiveshell import InteractiveShell\n",
    "InteractiveShell.ast_node_interactivity = 'all'"
   ]
  },
  {
   "cell_type": "markdown",
   "metadata": {
    "colab_type": "text",
    "id": "C0xO8JV9B-ki"
   },
   "source": [
    "<h3> Q1: Given two matrices please print the product of those two matrices </h3>\n",
    "<pre>\n",
    "\n",
    "Ex 1: A   = [[1 3 4]\n",
    "             [2 5 7]\n",
    "             [5 9 6]]\n",
    "      B   = [[1 0 0]\n",
    "             [0 1 0]\n",
    "             [0 0 1]]\n",
    "      A*B = [[1 3 4]\n",
    "             [2 5 7]\n",
    "             [5 9 6]]\n",
    "\n",
    "     \n",
    "Ex 2: A   = [[1 2]\n",
    "             [3 4]]\n",
    "      B   = [[1 2 3 4 5]\n",
    "             [5 6 7 8 9]]\n",
    "      A*B = [[11 14 17 20 23]\n",
    "             [23 30 36 42 51]]\n",
    "             \n",
    "Ex 3: A   = [[1 2]\n",
    "             [3 4]]\n",
    "      B   = [[1 4]\n",
    "             [5 6]\n",
    "             [7 8]\n",
    "             [9 6]]\n",
    "      A*B =Not possible\n",
    "</pre>"
   ]
  },
  {
   "cell_type": "code",
   "execution_count": 16,
   "metadata": {
    "colab": {},
    "colab_type": "code",
    "id": "rnssAfpgB-kj"
   },
   "outputs": [
    {
     "name": "stdout",
     "output_type": "stream",
     "text": [
      "[[1, 3, 4], [2, 5, 7], [5, 9, 6]]\n"
     ]
    }
   ],
   "source": [
    "A = [[1, 3, 4], [2, 5, 7], [5, 9, 6]]\n",
    "\n",
    "B = [[1, 0, 0], [0, 1, 0], [0, 0, 1]]\n",
    "\n",
    "mtx_a_dim = dict({\n",
    "    'rows': len(A),\n",
    "    'columns': len(A[0])\n",
    "})\n",
    "\n",
    "mtx_b_dim = dict(\n",
    "    {\n",
    "    'rows': len(B),\n",
    "    'columns': len(B[0])\n",
    "    }\n",
    ")\n",
    "\n",
    "def can_matrices_multiplied(mtx_i, mtx_ii):\n",
    "    \n",
    "    is_valid = False\n",
    "    \n",
    "    if mtx_a_dim.get('columns') == mtx_b_dim.get('rows'):\n",
    "        is_valid = True\n",
    "        \n",
    "    return is_valid\n",
    "    \n",
    "    \n",
    "# here A and B are list of lists\n",
    "def matrix_mul(A, B):\n",
    "    \n",
    "    res_mtx = []\n",
    "    for row in range(mtx_a_dim.get('rows')):\n",
    "\n",
    "        res_mtx.append([])\n",
    "        for col in range(mtx_a_dim.get('columns')):\n",
    "            \n",
    "            element = 0\n",
    "            for index in range(mtx_a_dim.get('rows')):\n",
    "\n",
    "                element += A[row][index] * B[index][col]\n",
    "            \n",
    "            res_mtx[row].append(element)\n",
    "            \n",
    "        \n",
    "    return(res_mtx)\n",
    "\n",
    "\n",
    "do_multiplication = False\n",
    "do_multiplication = can_matrices_multiplied(mtx_a_dim, mtx_b_dim)\n",
    "\n",
    "\n",
    "if do_multiplication:\n",
    "    print(matrix_mul(A, B))\n",
    "else:\n",
    "    print('Not possible')"
   ]
  },
  {
   "cell_type": "markdown",
   "metadata": {
    "colab_type": "text",
    "id": "at4VwLggB-kn"
   },
   "source": [
    "<h3> Q2: Select a number randomly with probability proportional to its magnitude from the given array of n elements</h3>\n",
    "\n",
    "consider an experiment, selecting an element from the list A randomly with probability proportional to its magnitude.\n",
    "assume we are doing the same experiment for 100 times with replacement, in each experiment you will print a number that is selected randomly from A.\n",
    "\n",
    "<pre>\n",
    "Ex 1: A = [0 5 27 6 13 28 100 45 10 79]\n",
    "let f(x) denote the number of times x getting selected in 100 experiments.\n",
    "f(100) > f(79) > f(45) > f(28) > f(27) > f(13) > f(10) > f(6) > f(5) > f(0)\n",
    "</pre>"
   ]
  },
  {
   "cell_type": "code",
   "execution_count": 17,
   "metadata": {
    "colab": {},
    "colab_type": "code",
    "id": "B6S2dpBhB-kn"
   },
   "outputs": [
    {
     "data": {
      "text/plain": [
       "{0: 0, 5: 1, 27: 10, 6: 5, 13: 6, 28: 8, 100: 26, 45: 12, 10: 4, 79: 27}"
      ]
     },
     "execution_count": 17,
     "metadata": {},
     "output_type": "execute_result"
    }
   ],
   "source": [
    "import random\n",
    "\n",
    "A = [0, 5, 27, 6, 13, 28, 100, 45, 10, 79]\n",
    "\n",
    "list_info = dict()\n",
    "list_info = {\n",
    "    'sum': sum(A),\n",
    "    'length': len(A)\n",
    "}\n",
    "\n",
    "list_i_prob = [ item / list_info.get('sum') for item in A]\n",
    "\n",
    "validation_obj = dict()\n",
    "validation_obj = { item: 0 for item in A}\n",
    "\n",
    "\n",
    "def pick_a_number_from_list(A):\n",
    "    \n",
    "    res = random.choices(A, weights= list_i_prob, k=1)\n",
    "    \n",
    "    return res[0]\n",
    "\n",
    "\n",
    "def sampling_based_on_magnitued(numbers):\n",
    "    \n",
    "    \n",
    "    for i in range(1,100):\n",
    "        \n",
    "        number = pick_a_number_from_list(numbers)\n",
    "        \n",
    "        update_item = validation_obj.get(number)\n",
    "        validation_obj.update({number: int(update_item) + 1})\n",
    "            \n",
    "    return validation_obj\n",
    "            \n",
    "\n",
    "sampling_based_on_magnitued(A)"
   ]
  },
  {
   "cell_type": "markdown",
   "metadata": {
    "colab_type": "text",
    "id": "D1xQy2WWB-kq"
   },
   "source": [
    "<h3> Q3: Replace the digits in the string with #</h3>\n",
    "\n",
    "consider a string that will have digits in that, we need to remove all the not digits and replace the digits with #\n",
    "<pre>\n",
    "Ex 1: A = 234                Output: ###\n",
    "Ex 2: A = a2b3c4             Output: ###\n",
    "Ex 3: A = abc                Output:   (empty string)\n",
    "Ex 5: A = #2a$#b%c%561#      Output: ####\n",
    "</pre>"
   ]
  },
  {
   "cell_type": "code",
   "execution_count": 18,
   "metadata": {
    "colab": {},
    "colab_type": "code",
    "id": "fxczi2jzB-kr"
   },
   "outputs": [
    {
     "data": {
      "text/plain": [
       "'####'"
      ]
     },
     "execution_count": 18,
     "metadata": {},
     "output_type": "execute_result"
    }
   ],
   "source": [
    "import re\n",
    "\n",
    "String = '#2a$#b%c%561#'\n",
    "\n",
    "def replace_digits(String):\n",
    "    \n",
    "    res_string = ''\n",
    "    matches = re.findall('[0-9]', String)\n",
    "    matches_len = len(matches)\n",
    "    \n",
    "    if matches_len is not 0:\n",
    "        res_string = '#'*matches_len\n",
    "        \n",
    "    return(res_string)\n",
    "    \n",
    "\n",
    "replace_digits(String)"
   ]
  },
  {
   "cell_type": "markdown",
   "metadata": {
    "colab_type": "text",
    "id": "j7h0Ywg7B-kw"
   },
   "source": [
    "<h3> Q4: Students marks dashboard</h3>\n",
    "\n",
    "consider the marks list of class students given two lists <br>\n",
    "Students = ['student1','student2','student3','student4','student5','student6','student7','student8','student9','student10'] <br>\n",
    "Marks = [45, 78, 12, 14, 48, 43, 45, 98, 35, 80] <br>\n",
    "from the above two lists the Student[0] got Marks[0],  Student[1] got Marks[1] and so on <br><br>\n",
    "your task is to print the name of students\n",
    "<strong>a. Who got top 5 ranks, in the descending order of marks</strong> <br>\n",
    "<strong>b. Who got least 5 ranks, in the increasing order of marks</strong><br>\n",
    "<strong>d. Who got marks between  &gt;25th percentile &lt;75th percentile, in the increasing order of marks</strong>\n",
    "\n",
    "<pre>\n",
    "Ex 1: \n",
    "Students=['student1','student2','student3','student4','student5','student6','student7','student8','student9','student10'] \n",
    "Marks = [45, 78, 12, 14, 48, 43, 47, 98, 35, 80]\n",
    "a. \n",
    "student8  98\n",
    "student10 80\n",
    "student2  78\n",
    "student5  48\n",
    "student7  47\n",
    "b.\n",
    "student3 12\n",
    "student4 14\n",
    "student9 35\n",
    "student6 43\n",
    "student1 45\n",
    "c.\n",
    "student9 35\n",
    "student6 43\n",
    "student1 45\n",
    "student7 47\n",
    "student5 48\n",
    "s/pre>"
   ]
  },
  {
   "cell_type": "code",
   "execution_count": 9,
   "metadata": {
    "colab": {},
    "colab_type": "code",
    "id": "cxPJgItsB-kx"
   },
   "outputs": [
    {
     "name": "stdout",
     "output_type": "stream",
     "text": [
      "['student8', 'student10', 'student2', 'student5', 'student7']\n",
      "['student3', 'student4', 'student9', 'student6', 'student1']\n",
      "['student9', 'student6', 'student1', 'student7', 'student5']\n"
     ]
    }
   ],
   "source": [
    "students = ['student1','student2','student3','student4','student5','student6','student7','student8','student9','student10'] \n",
    "marks = [45, 78, 12, 14, 48, 43, 47, 98, 35, 80]\n",
    "\n",
    "max_marks = max(marks)\n",
    "\n",
    "def check_data_sanity(list_i, list_ii):\n",
    "    \n",
    "    return len(list_i) == len(list_ii)\n",
    "\n",
    "\n",
    "def map_students_marks(students, marks):\n",
    "    \n",
    "    mapped_entities = dict(zip(students, marks))\n",
    "\n",
    "    return mapped_entities\n",
    "\n",
    "\n",
    "def display_dash_board(mapped_entities, max_marks, q1 = 0.25, q3 = 0.75):\n",
    "\n",
    "    sorted_res = sorted(mapped_entities, key = mapped_entities.get, reverse = True)\n",
    "    \n",
    "    # write code for computing top top 5 students\n",
    "    top_5_students = sorted_res[:5]\n",
    "    \n",
    "    # write code for computing top least 5 students\n",
    "    least_5_students = sorted_res[-1:-6:-1]\n",
    "    \n",
    "    # write code for computing top least 5 students\n",
    "    students_within_25_and_75_dict = {\n",
    "                                    key: mapped_entities[key]\n",
    "                                    for key in mapped_entities\n",
    "                                    if (mapped_entities[key] / max_marks > q1 and mapped_entities[key] / max_marks < q3)\n",
    "                                }\n",
    "    \n",
    "    students_within_25_and_75 = sorted(students_within_25_and_75_dict, key = students_within_25_and_75_dict.get)\n",
    "\n",
    "\n",
    "    return top_5_students, least_5_students, students_within_25_and_75\n",
    "\n",
    "\n",
    "is_data_valid = False\n",
    "is_data_valid = check_data_sanity(students, marks)\n",
    "\n",
    "if is_data_valid:\n",
    "    \n",
    "    mapped_entities = map_students_marks(students, marks)\n",
    "\n",
    "    top_5_students, least_5_students, students_within_25_and_75 = display_dash_board(mapped_entities, max_marks)\n",
    "    \n",
    "    print(top_5_students)\n",
    "    print(least_5_students)\n",
    "    print(students_within_25_and_75)"
   ]
  },
  {
   "cell_type": "markdown",
   "metadata": {
    "colab_type": "text",
    "id": "qha0OhQHB-k1"
   },
   "source": [
    "<h3> Q5: Find the closest points</h3>\n",
    "\n",
    "consider you have given n data points in the form of list of tuples like S=[(x1,y1),(x2,y2),(x3,y3),(x4,y4),(x5,y5),..,(xn,yn)] and a point P=(p,q) <br> your task is to find 5 closest points(based on cosine distance) in S from P\n",
    "<br>cosine distance between two points (x,y) and (p,q) is defind as $cos^{-1}(\\frac{(x\\cdot p+y\\cdot q)}{\\sqrt(x^2+y^2)\\cdot\\sqrt(p^2+q^2)})$\n",
    "<pre>\n",
    "Ex:\n",
    "\n",
    "S= [(1,2),(3,4),(-1,1),(6,-7),(0, 6),(-5,-8),(-1,-1)(6,0),(1,-1)]\n",
    "P= (3,-4)\n",
    "<img src='https://i.imgur.com/vIFPOcG.jpg', width=300>\n",
    "Output:\n",
    "(6,-7)\n",
    "(1,-1)\n",
    "(6,0)\n",
    "(-5,-8)\n",
    "(-1,-1)\n",
    "</pre>"
   ]
  },
  {
   "cell_type": "code",
   "execution_count": 13,
   "metadata": {
    "colab": {},
    "colab_type": "code",
    "id": "wA5I1g-2B-k2"
   },
   "outputs": [
    {
     "data": {
      "text/plain": [
       "[(6, -7), (1, -1), (6, 0), (-5, -8), (-1, -1)]"
      ]
     },
     "execution_count": 13,
     "metadata": {},
     "output_type": "execute_result"
    }
   ],
   "source": [
    "import math\n",
    "\n",
    "s = [(1,2), (3,4), (-1,1), (6,-7), (0, 6), (-5,-8), (-1,-1), (6,0), (1,-1)]\n",
    "p = (3,-4)\n",
    "\n",
    "def compute_cosine_distance(s, p):\n",
    "    \n",
    "    x, y = p\n",
    "    dist_origin = math.sqrt(math.pow(x, 2) + math.pow(y, 2))\n",
    "    \n",
    "    cosine_dist = dict()\n",
    "    for x1, y1 in s: \n",
    "        \n",
    "        num = x * x1 + y * y1\n",
    "        den = math.sqrt(math.pow(x1, 2) + math.pow(y1, 2)) * dist_origin\n",
    "        \n",
    "        dist_cosine = math.degrees(math.acos(num / den))\n",
    "        \n",
    "        cosine_dist.update({(x1, y1): dist_cosine})\n",
    "    \n",
    "    return cosine_dist\n",
    "\n",
    "\n",
    "def closest_points_to_p(dist_cosine, top_k):\n",
    "    \n",
    "    sorted_distance = sorted(dist_cosine, key = dist_cosine.get)\n",
    "    \n",
    "    return sorted_distance[:5]\n",
    "\n",
    "\n",
    "dist_cosine = compute_cosine_distance(s, p)\n",
    "points = closest_points_to_p(dist_cosine, 5)\n",
    "points #print the returned values"
   ]
  },
  {
   "cell_type": "markdown",
   "metadata": {
    "colab_type": "text",
    "id": "-g11jeAiB-k5"
   },
   "source": [
    "<h3> Q6: Find Which line separates oranges and apples</h3>\n",
    "consider you have given two set of data points in the form of list of tuples like \n",
    "<pre>\n",
    "Red =[(R11,R12),(R21,R22),(R31,R32),(R41,R42),(R51,R52),..,(Rn1,Rn2)]\n",
    "Blue=[(B11,B12),(B21,B22),(B31,B32),(B41,B42),(B51,B52),..,(Bm1,Bm2)]\n",
    "</pre>\n",
    "and set of line equations(in the string formate, i.e list of strings)\n",
    "<pre>\n",
    "Lines = [a1x+b1y+c1,a2x+b2y+c2,a3x+b3y+c3,a4x+b4y+c4,..,K lines]\n",
    "Note: you need to string parsing here and get the coefficients of x,y and intercept\n",
    "</pre>\n",
    "your task is to for each line that is given print \"YES\"/\"NO\", you will print yes, if all the red points are one side of the line and blue points are other side of the line, otherwise no\n",
    "<pre>\n",
    "Ex:\n",
    "Red= [(1,1),(2,1),(4,2),(2,4), (-1,4)]\n",
    "Blue= [(-2,-1),(-1,-2),(-3,-2),(-3,-1),(1,-3)]\n",
    "Lines=[\"1x+1y+0\",\"1x-1y+0\",\"1x+0y-3\",\"0x+1y-0.5\"]\n",
    "<img src='https://i.imgur.com/DoQf7mE.jpg' width=400>\n",
    "Output:\n",
    "YES\n",
    "NO\n",
    "NO\n",
    "YES\n",
    "</pre>"
   ]
  },
  {
   "cell_type": "code",
   "execution_count": 6,
   "metadata": {
    "colab": {},
    "colab_type": "code",
    "id": "eRxExaTRB-k6"
   },
   "outputs": [
    {
     "data": {
      "text/plain": [
       "['Yes', 'No', 'No', 'Yes']"
      ]
     },
     "execution_count": 6,
     "metadata": {},
     "output_type": "execute_result"
    }
   ],
   "source": [
    "import math\n",
    "import re\n",
    "import parser\n",
    "\n",
    "red = [(1,1),(2,1),(4,2),(2,4), (-1,4)]\n",
    "blue = [(-2,-1),(-1,-2),(-3,-2),(-3,-1),(1,-3)]\n",
    "\n",
    "lines = [\"1x+1y+0\",\"1x-1y+0\",\"1x+0y-3\",\"0x+1y-0.5\"]\n",
    "\n",
    "def fit_line_eqn(coef_x, coef_y, interceptor, points):\n",
    "    \n",
    "    ref_list = list()\n",
    "    for index, (coord_x, coord_y) in enumerate(points):\n",
    "\n",
    "        code = compile('float(coef_x) * float(coord_x) +  float(coef_y) * float(coord_y) + float(interceptor)', 'file.py', 'eval')\n",
    "        res = eval(code)\n",
    "\n",
    "        is_pos = 1 if res > 0 else 0\n",
    "\n",
    "        ref_list.append(is_pos)\n",
    "\n",
    "    return ref_list\n",
    "\n",
    "def are_list_items_different(list_items):\n",
    "    \n",
    "    return 1 if (len(list_items) == sum(list_items) or sum(list_items) == 0) else 0\n",
    "\n",
    "\n",
    "def check_coord_on_line(red, blue, lines):\n",
    "    \n",
    "    final_res = []\n",
    "    for line_eq in lines:\n",
    "\n",
    "        coef_x, coef_y, interceptor = re.findall('[+-]?\\d+.\\d+|[+-]?\\d+', line_eq)\n",
    "    \n",
    "        red_pts_res = fit_line_eqn(coef_x, coef_y, interceptor, red)\n",
    "        red_pts_status = are_list_items_different(red_pts_res)\n",
    "        \n",
    "        blue_pts_res = fit_line_eqn(coef_x, coef_y, interceptor, blue)\n",
    "        blue_pts_status = are_list_items_different(blue_pts_res)\n",
    "        \n",
    "        do_points_lie_on_either_side = 'Yes' if (red_pts_status and blue_pts_status) else 'No'\n",
    "\n",
    "        final_res.append(do_points_lie_on_either_side)\n",
    "\n",
    "    return final_res\n",
    "        \n",
    "        \n",
    "res = check_coord_on_line(red, blue, lines)\n",
    "res"
   ]
  },
  {
   "cell_type": "markdown",
   "metadata": {
    "colab_type": "text",
    "id": "9OBpURbNB-k9"
   },
   "source": [
    "<h3> Q7: Filling the missing values in the specified formate</h3>\n",
    "You will be given a string with digits and '\\_'(missing value) symbols you have to replace the '\\_' symbols as explained \n",
    "<pre>\n",
    "Ex 1: _, _, _, 24 ==> 24/4, 24/4, 24/4, 24/4 i.e we. have distributed the 24 equally to all 4 places <br>\n",
    "Ex 2: 40, _, _, _, 60 ==> (60+40)/5,(60+40)/5,(60+40)/5,(60+40)/5,(60+40)/5 ==> 20, 20, 20, 20, 20 i.e. the sum of (60+40) is distributed qually to all 5 places<br>\n",
    "Ex 3: 80, _, _, _, _  ==> 80/5,80/5,80/5,80/5,80/5 ==> 16, 16, 16, 16, 16 i.e. the 80 is distributed qually to all 5 missing values that are right to it<br>\n",
    "Ex 4: _, _, 30, _, _, _, 50, _, _  \n",
    "==> we will fill the missing values from left to right \n",
    "    a. first we will distribute the 30 to left two missing values (10, 10, 10, _, _, _, 50, _, _)\n",
    "    b. now distribute the sum (10+50) missing values in between (10, 10, 12, 12, 12, 12, 12, _, _) \n",
    "    c. now we will distribute 12 to right side missing values (10, 10, 12, 12, 12, 12, 4, 4, 4)\n",
    "</pre>\n",
    "for a given string with comma seprate values, which will have both missing values numbers like ex: \"_, _, x, _, _, _\"\n",
    "you need fill the missing values\n",
    "\n",
    "Q: your program reads a string like ex: \"_, _, x, _, _, _\" and returns the filled sequence\n",
    "\n",
    "Ex: \n",
    "<pre>\n",
    "Input1: \"_,_,_,24\"\n",
    "Output1: 6,6,6,6\n",
    "\n",
    "Input2: \"40,_,_,_,60\"\n",
    "Output2: 20,20,20,20,20\n",
    "\n",
    "Input3: \"80,_,_,_,_\"\n",
    "Output3: 16,16,16,16,16\n",
    "\n",
    "Input4: \"_,_,30,_,_,_,50,_,_\"\n",
    "Output4: 10,10,12,12,12,12,4,4,4\n",
    "</pre>\n",
    "\n"
   ]
  },
  {
   "cell_type": "code",
   "execution_count": 14,
   "metadata": {},
   "outputs": [
    {
     "name": "stdout",
     "output_type": "stream",
     "text": [
      "1\n"
     ]
    }
   ],
   "source": [
    "count = 0\n",
    "count += 1\n",
    "print(count)"
   ]
  },
  {
   "cell_type": "code",
   "execution_count": 15,
   "metadata": {},
   "outputs": [
    {
     "data": {
      "text/plain": [
       "[3, 3, 3]"
      ]
     },
     "execution_count": 15,
     "metadata": {},
     "output_type": "execute_result"
    }
   ],
   "source": [
    "count = []\n",
    "count.extend([3]*3)\n",
    "count"
   ]
  },
  {
   "cell_type": "code",
   "execution_count": 25,
   "metadata": {
    "colab": {},
    "colab_type": "code",
    "id": "nZmpzHs_B-k-"
   },
   "outputs": [
    {
     "name": "stdout",
     "output_type": "stream",
     "text": [
      "[16.0, 16.0, 16.0, 16.0, 16.0]\n"
     ]
    }
   ],
   "source": [
    "import re\n",
    "# you can free to change all these codes/structure\n",
    "def curve_smoothing(string):\n",
    "    # your code\n",
    "    return #list of values\n",
    "\n",
    "#s = \"_,_,30,_,_,_,50,_,_\"\n",
    "#s = \"40,_,_,_,60\"\n",
    "s = \"80,_,_,_,_\"\n",
    "\n",
    "#placeholder_grp_list = re.findall('[_,]+', s)\n",
    "#placeholder_sub = [len(re.findall('[_]+', placeholder)) for placeholder in placeholder_grp_list]\n",
    "\n",
    "#print(placeholder_sub)\n",
    "#nums = re.findall('\\d+', s)\n",
    "#nums = [int(num) for num in nums]\n",
    "\n",
    "list_items = s.split(',')\n",
    "\n",
    "is_first = True\n",
    "last_num = 0\n",
    "\n",
    "placeholder_count = 0\n",
    "\n",
    "updated_items = []\n",
    "for index, item in enumerate(list_items):\n",
    "    \n",
    "    if item == '_':\n",
    "        placeholder_count += 1\n",
    "    else:\n",
    "        \n",
    "        parsed_item = float(item)\n",
    "        \n",
    "        if is_first and last_num == 0 and index == 0:\n",
    "            placeholder_count += 1\n",
    "            is_first, last_num = False, parsed_item\n",
    "            \n",
    "        elif is_first and last_num == 0:\n",
    "            \n",
    "            placeholder_count += 1\n",
    "            \n",
    "            val = parsed_item / placeholder_count\n",
    "            updated_items.extend( [val] * placeholder_count )\n",
    "            \n",
    "            placeholder_count = 1\n",
    "            is_first = False\n",
    "            last_num = val\n",
    "            \n",
    "        else:\n",
    "            \n",
    "            placeholder_count += 1\n",
    "            \n",
    "            val = (last_num + parsed_item) / placeholder_count\n",
    "            \n",
    "            if len(updated_items) > 0:\n",
    "                updated_items.pop()\n",
    "\n",
    "            updated_items.extend( [val] * placeholder_count )\n",
    "            \n",
    "            placeholder_count, last_num = 1, val\n",
    "\n",
    "if placeholder_count > 0:\n",
    "    \n",
    "    val = last_num / placeholder_count\n",
    "    \n",
    "    if len(updated_items) > 0:\n",
    "        updated_items.pop()\n",
    "\n",
    "    updated_items.extend( [val] * placeholder_count )\n",
    "        \n",
    "print(updated_items)"
   ]
  },
  {
   "cell_type": "markdown",
   "metadata": {
    "colab_type": "text",
    "id": "RBz4pzlfB-lB"
   },
   "source": [
    "<h3> Q8: Filling the missing values in the specified formate</h3>\n",
    "You will be given a list of lists, each sublist will be of length 2 i.e. [[x,y],[p,q],[l,m]..[r,s]]\n",
    "consider its like a martrix of n rows and two columns\n",
    "1. the first column F will contain only 5 uniques values (F1, F2, F3, F4, F5)\n",
    "2. the second column S will contain only 3 uniques values (S1, S2, S3)\n",
    "<pre>\n",
    "your task is to find\n",
    "a. Probability of P(F=F1|S==S1), P(F=F1|S==S2), P(F=F1|S==S3)\n",
    "b. Probability of P(F=F2|S==S1), P(F=F2|S==S2), P(F=F2|S==S3)\n",
    "c. Probability of P(F=F3|S==S1), P(F=F3|S==S2), P(F=F3|S==S3)\n",
    "d. Probability of P(F=F4|S==S1), P(F=F4|S==S2), P(F=F4|S==S3)\n",
    "e. Probability of P(F=F5|S==S1), P(F=F5|S==S2), P(F=F5|S==S3)\n",
    "</pre>\n",
    "Ex:\n",
    "\n",
    "<pre>\n",
    "[[F1,S1],[F2,S2],[F3,S3],[F1,S2],[F2,S3],[F3,S2],[F2,S1],[F4,S1],[F4,S3],[F5,S1]]\n",
    "\n",
    "a. P(F=F1|S==S1)=1/4, P(F=F1|S==S2)=1/3, P(F=F1|S==S3)=0/3\n",
    "b. P(F=F2|S==S1)=1/4, P(F=F2|S==S2)=1/3, P(F=F2|S==S3)=1/3\n",
    "c. P(F=F3|S==S1)=0/4, P(F=F3|S==S2)=1/3, P(F=F3|S==S3)=1/3\n",
    "d. P(F=F4|S==S1)=1/4, P(F=F4|S==S2)=0/3, P(F=F4|S==S3)=1/3\n",
    "e. P(F=F5|S==S1)=1/4, P(F=F5|S==S2)=0/3, P(F=F5|S==S3)=0/3\n",
    "</pre>\n",
    "\n",
    "\n"
   ]
  },
  {
   "cell_type": "code",
   "execution_count": null,
   "metadata": {
    "colab": {},
    "colab_type": "code",
    "id": "e-1giz1MB-lC"
   },
   "outputs": [],
   "source": [
    "# write your python code here\n",
    "# you can take the above example as sample input for your program to test\n",
    "# it should work for any general input try not to hard code for only given input strings\n",
    "\n",
    "\n",
    "\n",
    "# you can free to change all these codes/structure\n",
    "def compute_conditional_probabilites(A):\n",
    "    # your code\n",
    "    # print the output as per the instructions\n",
    "\n",
    "A = [['F1','S1'],['F2','S2'],['F3','S3'],['F1','S2'],['F2','S3'],['F3','S2'],['F2','S1'],['F4','S1'],['F4','S3'],['F5','S1']]\n",
    "\n",
    "compute_conditional_probabilites(A)"
   ]
  },
  {
   "cell_type": "markdown",
   "metadata": {
    "colab_type": "text",
    "id": "n4HS87QmB-lF"
   },
   "source": [
    "<h3> Q9: Given two sentances S1, S2</h3>\n",
    "You will be given two sentances S1, S2 your task is to find \n",
    "<pre>\n",
    "a. Number of common words between S1, S2\n",
    "b. Words in S1 but not in S2\n",
    "c. Words in S2 but not in S1\n",
    "</pre>\n",
    "\n",
    "Ex: \n",
    "<pre>\n",
    "S1= \"the first column F will contain only 5 uniques values\"\n",
    "S2= \"the second column S will contain only 3 uniques values\"\n",
    "Output:\n",
    "a. 7\n",
    "b. ['first','F','5']\n",
    "c. ['second','S','3']\n",
    "</pre>"
   ]
  },
  {
   "cell_type": "code",
   "execution_count": 1,
   "metadata": {
    "colab": {},
    "colab_type": "code",
    "id": "Ez7hlHK0B-lG"
   },
   "outputs": [
    {
     "name": "stdout",
     "output_type": "stream",
     "text": [
      "{'the', 'will', 'column', 'only', 'values', 'uniques', 'contain'}\n",
      "{'first', 'F', '5'}\n",
      "{'S', '3', 'second'}\n"
     ]
    }
   ],
   "source": [
    "def intersection_operation(dict_i, dict_ii):\n",
    "    \n",
    "    return dict_i & dict_ii\n",
    "\n",
    "\n",
    "def difference_operation(dict_i, dict_ii):\n",
    "    \n",
    "    return dict_i.difference(dict_ii)\n",
    "\n",
    "\n",
    "def string_features(s1, s2):\n",
    "    \n",
    "    s1_dict = { word_i for word_i in s1.split() }\n",
    "    s2_dict = { word_i for word_i in s2.split() }\n",
    "\n",
    "    a = intersection_operation(s1_dict, s2_dict)\n",
    "    \n",
    "    b = difference_operation(s1_dict, s2_dict)\n",
    "    \n",
    "    c = difference_operation(s2_dict, s1_dict)\n",
    "    \n",
    "    \n",
    "    return a, b, c\n",
    "\n",
    "\n",
    "\n",
    "s1 = \"the first column F will contain only 5 uniques values\"\n",
    "s2 = \"the second column S will contain only 3 uniques values\"\n",
    "\n",
    "a, b, c = string_features(s1, s2)\n",
    "print(a)\n",
    "print(b)\n",
    "print(c)"
   ]
  },
  {
   "cell_type": "markdown",
   "metadata": {
    "colab_type": "text",
    "id": "XefXVEjCB-lI"
   },
   "source": [
    "<h3> Q10: Given two sentances S1, S2</h3>\n",
    "You will be given a list of lists, each sublist will be of length 2 i.e. [[x,y],[p,q],[l,m]..[r,s]]\n",
    "consider its like a martrix of n rows and two columns\n",
    "\n",
    "a. the first column Y will contain interger values <br>\n",
    "b. the second column $Y_{score}$ will be having float values <br>\n",
    "Your task is to find the value of $f(Y,Y_{score}) = -1*\\frac{1}{n}\\Sigma_{for each Y,Y_{score} pair}(Ylog10(Y_{score})+(1-Y)log10(1-Y_{score}))$ here n is the number of rows in the matrix\n",
    "<pre>\n",
    "Ex:\n",
    "[[1, 0.4], [0, 0.5], [0, 0.9], [0, 0.3], [0, 0.6], [1, 0.1], [1, 0.9], [1, 0.8]]\n",
    "output:\n",
    "0.4243099\n",
    "</pre>\n",
    "$\\frac{-1}{8}\\cdot((1\\cdot log_{10}(0.4)+0\\cdot log_{10}(0.6))+(0\\cdot log_{10}(0.5)+1\\cdot log_{10}(0.5)) + ... + (1\\cdot log_{10}(0.8)+0\\cdot log_{10}(0.2)) )$"
   ]
  },
  {
   "cell_type": "code",
   "execution_count": 4,
   "metadata": {
    "colab": {},
    "colab_type": "code",
    "id": "N9zkagyNB-lJ"
   },
   "outputs": [
    {
     "name": "stdout",
     "output_type": "stream",
     "text": [
      "0.42430993457031635\n"
     ]
    }
   ],
   "source": [
    "import math\n",
    "\n",
    "def compute_log_loss(a):\n",
    "    \n",
    "    loss = 0\n",
    "    for y, y_score in a:\n",
    "        \n",
    "        loss += (y * math.log10(y_score) + (1 - y) * (math.log10(1 - y_score)))\n",
    "    \n",
    "    return -1 * loss/len(a)\n",
    "\n",
    "\n",
    "a = [[1, 0.4], [0, 0.5], [0, 0.9], [0, 0.3], [0, 0.6], [1, 0.1], [1, 0.9], [1, 0.8]]\n",
    "loss = compute_log_loss(a)\n",
    "print(loss)"
   ]
  }
 ],
 "metadata": {
  "colab": {
   "collapsed_sections": [],
   "name": "1.Python Assignment.ipynb",
   "provenance": []
  },
  "kernelspec": {
   "display_name": "Python 3",
   "language": "python",
   "name": "python3"
  },
  "language_info": {
   "codemirror_mode": {
    "name": "ipython",
    "version": 3
   },
   "file_extension": ".py",
   "mimetype": "text/x-python",
   "name": "python",
   "nbconvert_exporter": "python",
   "pygments_lexer": "ipython3",
   "version": "3.7.0"
  }
 },
 "nbformat": 4,
 "nbformat_minor": 1
}
